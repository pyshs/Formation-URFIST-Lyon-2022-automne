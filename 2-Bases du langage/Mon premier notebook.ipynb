{
 "cells": [
  {
   "cell_type": "markdown",
   "id": "6de73e55",
   "metadata": {},
   "source": [
    "# Premier script"
   ]
  },
  {
   "cell_type": "code",
   "execution_count": 131,
   "id": "089408b1",
   "metadata": {},
   "outputs": [
    {
     "name": "stdout",
     "output_type": "stream",
     "text": [
      "Écrivez une phrase: qsdds qsddsq\n",
      "Proportion de mots avec 4 lettres ou plus : 100.0\n"
     ]
    }
   ],
   "source": [
    "# Ce script sert à demander une phrase à l'utilisateur\n",
    "# et calculer la proportion de mots de plus de 4 lettres dans une phrase\n",
    "\n",
    "# Définir des paramètres\n",
    "sortie_fichier = False # on crée une variable qui définit si on veut une sortie fichier\n",
    "nombre_min_lettres = 4 # on crée une variable qui définit le nombre de lettres\n",
    "\n",
    "# Fait une entrée\n",
    "phrase = input(\"Écrivez une phrase: \") # on demander une entrée à l'utilisateur stockée dans phrase\n",
    "\n",
    "liste_mots = phrase.split(\" \") # on coupe le texte au niveau des espaces\n",
    "\n",
    "nombre_mots = len(liste_mots) # création d'une nouvelle variable\n",
    "if nombre_mots == 0: # si le nombre de mots est égal à 0\n",
    "    print(\"La liste est vide\")\n",
    "else: # cas où il y a des mots\n",
    "    compteur = 0 # on initialise un compteur à 0 \n",
    "    for i in liste_mots: #on prend chaque mot un à un\n",
    "        if len(i) >= nombre_min_lettres: # on regarde si la longueur est supérieure à un seuil\n",
    "            compteur = compteur + 1\n",
    "    # le compteur compte le nombre de mots de plus de 4 lettres\n",
    "    proportion = round(100*compteur/nombre_mots,2) # calcule d'une proportion\n",
    "    # résume les informations dans un dictionnaire\n",
    "    informations = {\"Total\":compteur,\"Proportion\":proportion,\n",
    "                   \"Phrase\":phrase,\"Seuil\":nombre_min_lettres}\n",
    "    # Mise en forme d'une chaine de caractères pour la sortie\n",
    "    sortie = f\"Proportion de mots avec {nombre_min_lettres} lettres ou plus : {proportion}\"\n",
    "    \n",
    "    \n",
    "    # Faire une sortie\n",
    "    print(sortie) # Afficher\n",
    "    if sortie_fichier:\n",
    "        # écriture dans un fichier\n",
    "        with open(\"resultat.txt\",\"w\") as f:\n",
    "            f.write(str(informations))\n",
    "            f.write(\"\\n\")"
   ]
  },
  {
   "cell_type": "markdown",
   "id": "6fcc2ce0",
   "metadata": {},
   "source": [
    "## Autopsie du code"
   ]
  },
  {
   "cell_type": "markdown",
   "id": "4e5b3a64",
   "metadata": {},
   "source": [
    "### Ligne 1"
   ]
  },
  {
   "cell_type": "code",
   "execution_count": 21,
   "id": "f82686b3",
   "metadata": {},
   "outputs": [],
   "source": [
    "sortie_fichier = True"
   ]
  },
  {
   "cell_type": "markdown",
   "id": "01e6063b",
   "metadata": {},
   "source": [
    "La première ligne crée une nouvelle variable et lui attribue le contenu True (et la transforme en booléen)."
   ]
  },
  {
   "cell_type": "code",
   "execution_count": 12,
   "id": "ff8967ac",
   "metadata": {},
   "outputs": [
    {
     "data": {
      "text/plain": [
       "True"
      ]
     },
     "execution_count": 12,
     "metadata": {},
     "output_type": "execute_result"
    }
   ],
   "source": [
    "True"
   ]
  },
  {
   "cell_type": "markdown",
   "id": "111a4e15",
   "metadata": {},
   "source": [
    "Créer une nouvelle variable"
   ]
  },
  {
   "cell_type": "code",
   "execution_count": 13,
   "id": "ca77e1ba",
   "metadata": {},
   "outputs": [],
   "source": [
    "coucou = False"
   ]
  },
  {
   "cell_type": "code",
   "execution_count": 16,
   "id": "d6ab9695",
   "metadata": {},
   "outputs": [
    {
     "ename": "SyntaxError",
     "evalue": "EOL while scanning string literal (3477441354.py, line 1)",
     "output_type": "error",
     "traceback": [
      "\u001b[0;36m  Input \u001b[0;32mIn [16]\u001b[0;36m\u001b[0m\n\u001b[0;31m    cou'cou\u001b[0m\n\u001b[0m           ^\u001b[0m\n\u001b[0;31mSyntaxError\u001b[0m\u001b[0;31m:\u001b[0m EOL while scanning string literal\n"
     ]
    }
   ],
   "source": [
    "cou'cou"
   ]
  },
  {
   "cell_type": "markdown",
   "id": "9ee8e9ee",
   "metadata": {},
   "source": [
    "Il y a des règles pour nommer les variables et des conventions de noation"
   ]
  },
  {
   "cell_type": "markdown",
   "id": "ee3bfb17",
   "metadata": {},
   "source": [
    "### Deuxième ligne"
   ]
  },
  {
   "cell_type": "code",
   "execution_count": 17,
   "id": "65a94f5f",
   "metadata": {},
   "outputs": [],
   "source": [
    "nombre_min_lettres = 4"
   ]
  },
  {
   "cell_type": "code",
   "execution_count": 18,
   "id": "3f47fb1f",
   "metadata": {},
   "outputs": [
    {
     "data": {
      "text/plain": [
       "4"
      ]
     },
     "execution_count": 18,
     "metadata": {},
     "output_type": "execute_result"
    }
   ],
   "source": [
    "nombre_min_lettres"
   ]
  },
  {
   "cell_type": "markdown",
   "id": "b1c8a52a",
   "metadata": {},
   "source": [
    "### La fonction type"
   ]
  },
  {
   "cell_type": "code",
   "execution_count": 19,
   "id": "4bc32672",
   "metadata": {},
   "outputs": [
    {
     "data": {
      "text/plain": [
       "int"
      ]
     },
     "execution_count": 19,
     "metadata": {},
     "output_type": "execute_result"
    }
   ],
   "source": [
    "type(nombre_min_lettres)"
   ]
  },
  {
   "cell_type": "code",
   "execution_count": 22,
   "id": "054e6b52",
   "metadata": {},
   "outputs": [
    {
     "data": {
      "text/plain": [
       "bool"
      ]
     },
     "execution_count": 22,
     "metadata": {},
     "output_type": "execute_result"
    }
   ],
   "source": [
    "type(sortie_fichier)"
   ]
  },
  {
   "cell_type": "markdown",
   "id": "9a1327ad",
   "metadata": {},
   "source": [
    "On a des variables créées de différentes natures (type)"
   ]
  },
  {
   "cell_type": "code",
   "execution_count": 24,
   "id": "31b79264",
   "metadata": {},
   "outputs": [
    {
     "data": {
      "text/plain": [
       "14"
      ]
     },
     "execution_count": 24,
     "metadata": {},
     "output_type": "execute_result"
    }
   ],
   "source": [
    "nombre_min_lettres + 10"
   ]
  },
  {
   "cell_type": "markdown",
   "id": "208be055",
   "metadata": {},
   "source": [
    "On peut utiliser la variable pour des opérations"
   ]
  },
  {
   "cell_type": "code",
   "execution_count": 25,
   "id": "969afbdd",
   "metadata": {},
   "outputs": [
    {
     "ename": "NameError",
     "evalue": "name 'nombre_max_lettres' is not defined",
     "output_type": "error",
     "traceback": [
      "\u001b[0;31m---------------------------------------------------------------------------\u001b[0m",
      "\u001b[0;31mNameError\u001b[0m                                 Traceback (most recent call last)",
      "Input \u001b[0;32mIn [25]\u001b[0m, in \u001b[0;36m<cell line: 1>\u001b[0;34m()\u001b[0m\n\u001b[0;32m----> 1\u001b[0m \u001b[43mnombre_max_lettres\u001b[49m\n",
      "\u001b[0;31mNameError\u001b[0m: name 'nombre_max_lettres' is not defined"
     ]
    }
   ],
   "source": [
    "nombre_max_lettres"
   ]
  },
  {
   "cell_type": "markdown",
   "id": "c9e2c479",
   "metadata": {},
   "source": [
    "Cette variable n'existe pas"
   ]
  },
  {
   "cell_type": "code",
   "execution_count": 28,
   "id": "5e719993",
   "metadata": {},
   "outputs": [],
   "source": [
    "nombre_min_lettres     =       4"
   ]
  },
  {
   "cell_type": "markdown",
   "id": "d9190fac",
   "metadata": {},
   "source": [
    "### Troisième ligne"
   ]
  },
  {
   "cell_type": "code",
   "execution_count": 36,
   "id": "cc9f12b7",
   "metadata": {},
   "outputs": [
    {
     "name": "stdout",
     "output_type": "stream",
     "text": [
      "Écrivez une phrase: Ceci est une phrase\n"
     ]
    }
   ],
   "source": [
    "phrase = input(\"Écrivez une phrase: \")"
   ]
  },
  {
   "cell_type": "code",
   "execution_count": 37,
   "id": "45dde1d7",
   "metadata": {},
   "outputs": [
    {
     "data": {
      "text/plain": [
       "'Ceci est une phrase'"
      ]
     },
     "execution_count": 37,
     "metadata": {},
     "output_type": "execute_result"
    }
   ],
   "source": [
    "phrase"
   ]
  },
  {
   "cell_type": "code",
   "execution_count": 31,
   "id": "4e53aa3e",
   "metadata": {
    "scrolled": true
   },
   "outputs": [
    {
     "name": "stdout",
     "output_type": "stream",
     "text": [
      "Écrivez une phrase: Ceci est une phrase\n"
     ]
    },
    {
     "data": {
      "text/plain": [
       "'Ceci est une phrase'"
      ]
     },
     "execution_count": 31,
     "metadata": {},
     "output_type": "execute_result"
    }
   ],
   "source": [
    "input(\"Écrivez une phrase: \")"
   ]
  },
  {
   "cell_type": "code",
   "execution_count": 32,
   "id": "fd10d21b",
   "metadata": {},
   "outputs": [
    {
     "data": {
      "text/plain": [
       "method"
      ]
     },
     "execution_count": 32,
     "metadata": {},
     "output_type": "execute_result"
    }
   ],
   "source": [
    "type(input)"
   ]
  },
  {
   "cell_type": "code",
   "execution_count": 34,
   "id": "ef052ab3",
   "metadata": {},
   "outputs": [
    {
     "name": "stdout",
     "output_type": "stream",
     "text": [
      "qdssqdsdsfssfdfdf\n"
     ]
    },
    {
     "data": {
      "text/plain": [
       "'fssfdfdf'"
      ]
     },
     "execution_count": 34,
     "metadata": {},
     "output_type": "execute_result"
    }
   ],
   "source": [
    "input(\"qdssqdsds\")"
   ]
  },
  {
   "cell_type": "code",
   "execution_count": 35,
   "id": "597e1dbd",
   "metadata": {},
   "outputs": [],
   "source": [
    "?input"
   ]
  },
  {
   "cell_type": "code",
   "execution_count": null,
   "id": "fdbe6b6b",
   "metadata": {},
   "outputs": [],
   "source": [
    "input()"
   ]
  },
  {
   "cell_type": "code",
   "execution_count": 39,
   "id": "2f216992",
   "metadata": {},
   "outputs": [
    {
     "data": {
      "text/plain": [
       "str"
      ]
     },
     "execution_count": 39,
     "metadata": {},
     "output_type": "execute_result"
    }
   ],
   "source": [
    "type(phrase)"
   ]
  },
  {
   "cell_type": "code",
   "execution_count": 40,
   "id": "4e7395bc",
   "metadata": {},
   "outputs": [
    {
     "data": {
      "text/plain": [
       "float"
      ]
     },
     "execution_count": 40,
     "metadata": {},
     "output_type": "execute_result"
    }
   ],
   "source": [
    "type(4.3)"
   ]
  },
  {
   "cell_type": "code",
   "execution_count": 41,
   "id": "85a0df0d",
   "metadata": {},
   "outputs": [
    {
     "data": {
      "text/plain": [
       "5.3"
      ]
     },
     "execution_count": 41,
     "metadata": {},
     "output_type": "execute_result"
    }
   ],
   "source": [
    "1 + 4.3"
   ]
  },
  {
   "cell_type": "code",
   "execution_count": 42,
   "id": "141c9ab0",
   "metadata": {},
   "outputs": [
    {
     "data": {
      "text/plain": [
       "5.3"
      ]
     },
     "execution_count": 42,
     "metadata": {},
     "output_type": "execute_result"
    }
   ],
   "source": [
    "True + 4.3"
   ]
  },
  {
   "cell_type": "code",
   "execution_count": 43,
   "id": "274f0aee",
   "metadata": {},
   "outputs": [
    {
     "ename": "TypeError",
     "evalue": "can only concatenate str (not \"int\") to str",
     "output_type": "error",
     "traceback": [
      "\u001b[0;31m---------------------------------------------------------------------------\u001b[0m",
      "\u001b[0;31mTypeError\u001b[0m                                 Traceback (most recent call last)",
      "Input \u001b[0;32mIn [43]\u001b[0m, in \u001b[0;36m<cell line: 1>\u001b[0;34m()\u001b[0m\n\u001b[0;32m----> 1\u001b[0m \u001b[38;5;124;43m\"\u001b[39;49m\u001b[38;5;124;43mtexte\u001b[39;49m\u001b[38;5;124;43m\"\u001b[39;49m\u001b[43m \u001b[49m\u001b[38;5;241;43m+\u001b[39;49m\u001b[43m \u001b[49m\u001b[38;5;241;43m3\u001b[39;49m\n",
      "\u001b[0;31mTypeError\u001b[0m: can only concatenate str (not \"int\") to str"
     ]
    }
   ],
   "source": [
    "\"texte\" + 3"
   ]
  },
  {
   "cell_type": "markdown",
   "id": "e0d1e501",
   "metadata": {},
   "source": [
    "Attention à la manipulation de variables de types différents"
   ]
  },
  {
   "cell_type": "code",
   "execution_count": 44,
   "id": "e3ce91d5",
   "metadata": {},
   "outputs": [
    {
     "data": {
      "text/plain": [
       "'texteun autre texte'"
      ]
     },
     "execution_count": 44,
     "metadata": {},
     "output_type": "execute_result"
    }
   ],
   "source": [
    "\"texte\" + \"un autre texte\""
   ]
  },
  {
   "cell_type": "markdown",
   "id": "2fb7d054",
   "metadata": {},
   "source": [
    "On peut transtyper les variables dans certaines conditions"
   ]
  },
  {
   "cell_type": "code",
   "execution_count": 48,
   "id": "596413ca",
   "metadata": {},
   "outputs": [
    {
     "data": {
      "text/plain": [
       "'le nombre est 3'"
      ]
     },
     "execution_count": 48,
     "metadata": {},
     "output_type": "execute_result"
    }
   ],
   "source": [
    "\"le nombre est \" + str(3)"
   ]
  },
  {
   "cell_type": "code",
   "execution_count": 49,
   "id": "449b5950",
   "metadata": {},
   "outputs": [
    {
     "data": {
      "text/plain": [
       "5"
      ]
     },
     "execution_count": 49,
     "metadata": {},
     "output_type": "execute_result"
    }
   ],
   "source": [
    "int(5.98)"
   ]
  },
  {
   "cell_type": "markdown",
   "id": "dcf99f99",
   "metadata": {},
   "source": [
    "### La chaine de caractère comme objet"
   ]
  },
  {
   "cell_type": "code",
   "execution_count": 51,
   "id": "fed60b64",
   "metadata": {},
   "outputs": [],
   "source": [
    "variable = \"qsddsq ddsq qdsq dsqdd\""
   ]
  },
  {
   "cell_type": "code",
   "execution_count": 55,
   "id": "7b3aadc0",
   "metadata": {},
   "outputs": [],
   "source": [
    "#dir(variable)"
   ]
  },
  {
   "cell_type": "markdown",
   "id": "9850f595",
   "metadata": {},
   "source": [
    "### Ligne 4"
   ]
  },
  {
   "cell_type": "code",
   "execution_count": 56,
   "id": "d690b10e",
   "metadata": {},
   "outputs": [],
   "source": [
    "liste_mots = phrase.split(\" \")\n"
   ]
  },
  {
   "cell_type": "code",
   "execution_count": 58,
   "id": "70d0df21",
   "metadata": {},
   "outputs": [
    {
     "data": {
      "text/plain": [
       "['Ceci', 'est', 'une', 'phrase']"
      ]
     },
     "execution_count": 58,
     "metadata": {},
     "output_type": "execute_result"
    }
   ],
   "source": [
    "phrase.split(\" \")"
   ]
  },
  {
   "cell_type": "code",
   "execution_count": 59,
   "id": "f183f991",
   "metadata": {},
   "outputs": [
    {
     "data": {
      "text/plain": [
       "'CECI EST UNE PHRASE'"
      ]
     },
     "execution_count": 59,
     "metadata": {},
     "output_type": "execute_result"
    }
   ],
   "source": [
    "phrase.upper()"
   ]
  },
  {
   "cell_type": "code",
   "execution_count": 60,
   "id": "fd211404",
   "metadata": {},
   "outputs": [
    {
     "data": {
      "text/plain": [
       "3"
      ]
     },
     "execution_count": 60,
     "metadata": {},
     "output_type": "execute_result"
    }
   ],
   "source": [
    "phrase.count(\" \")"
   ]
  },
  {
   "cell_type": "code",
   "execution_count": 61,
   "id": "f7a2f2a4",
   "metadata": {},
   "outputs": [],
   "source": [
    "?phrase.count"
   ]
  },
  {
   "cell_type": "code",
   "execution_count": null,
   "id": "7f9629be",
   "metadata": {},
   "outputs": [],
   "source": [
    "type()"
   ]
  },
  {
   "cell_type": "code",
   "execution_count": 62,
   "id": "d71f199d",
   "metadata": {},
   "outputs": [],
   "source": [
    "nombre = 4"
   ]
  },
  {
   "cell_type": "code",
   "execution_count": 63,
   "id": "7b625f23",
   "metadata": {},
   "outputs": [
    {
     "data": {
      "text/plain": [
       "list"
      ]
     },
     "execution_count": 63,
     "metadata": {},
     "output_type": "execute_result"
    }
   ],
   "source": [
    "type(liste_mots)"
   ]
  },
  {
   "cell_type": "markdown",
   "id": "36389c4e",
   "metadata": {},
   "source": [
    "### Digression sur les listes"
   ]
  },
  {
   "cell_type": "code",
   "execution_count": 67,
   "id": "d857ac26",
   "metadata": {},
   "outputs": [
    {
     "data": {
      "text/plain": [
       "['Ceci', 'est', 'une', 'phrase']"
      ]
     },
     "execution_count": 67,
     "metadata": {},
     "output_type": "execute_result"
    }
   ],
   "source": [
    "liste_mots"
   ]
  },
  {
   "cell_type": "code",
   "execution_count": 65,
   "id": "6d08473f",
   "metadata": {},
   "outputs": [
    {
     "data": {
      "text/plain": [
       "4"
      ]
     },
     "execution_count": 65,
     "metadata": {},
     "output_type": "execute_result"
    }
   ],
   "source": [
    "len(liste_mots)"
   ]
  },
  {
   "cell_type": "code",
   "execution_count": 66,
   "id": "e8b90ec4",
   "metadata": {},
   "outputs": [
    {
     "data": {
      "text/plain": [
       "'est'"
      ]
     },
     "execution_count": 66,
     "metadata": {},
     "output_type": "execute_result"
    }
   ],
   "source": [
    "liste_mots[1]"
   ]
  },
  {
   "cell_type": "code",
   "execution_count": 68,
   "id": "ff7f57a6",
   "metadata": {},
   "outputs": [
    {
     "ename": "IndexError",
     "evalue": "list index out of range",
     "output_type": "error",
     "traceback": [
      "\u001b[0;31m---------------------------------------------------------------------------\u001b[0m",
      "\u001b[0;31mIndexError\u001b[0m                                Traceback (most recent call last)",
      "Input \u001b[0;32mIn [68]\u001b[0m, in \u001b[0;36m<cell line: 1>\u001b[0;34m()\u001b[0m\n\u001b[0;32m----> 1\u001b[0m \u001b[43mliste_mots\u001b[49m\u001b[43m[\u001b[49m\u001b[38;5;241;43m100\u001b[39;49m\u001b[43m]\u001b[49m\n",
      "\u001b[0;31mIndexError\u001b[0m: list index out of range"
     ]
    }
   ],
   "source": [
    "liste_mots[100]"
   ]
  },
  {
   "cell_type": "code",
   "execution_count": 69,
   "id": "f2781991",
   "metadata": {},
   "outputs": [],
   "source": [
    "liste_mots.append(0)"
   ]
  },
  {
   "cell_type": "code",
   "execution_count": 70,
   "id": "7f4a9183",
   "metadata": {},
   "outputs": [
    {
     "data": {
      "text/plain": [
       "['Ceci', 'est', 'une', 'phrase', 0]"
      ]
     },
     "execution_count": 70,
     "metadata": {},
     "output_type": "execute_result"
    }
   ],
   "source": [
    "liste_mots"
   ]
  },
  {
   "cell_type": "code",
   "execution_count": 71,
   "id": "767bccf8",
   "metadata": {},
   "outputs": [
    {
     "data": {
      "text/plain": [
       "['une', 'phrase']"
      ]
     },
     "execution_count": 71,
     "metadata": {},
     "output_type": "execute_result"
    }
   ],
   "source": [
    "liste_mots[2:4]"
   ]
  },
  {
   "cell_type": "markdown",
   "id": "775aed7d",
   "metadata": {},
   "source": [
    "### Bloc conditionnel\n",
    "\n",
    "1. Une expression de vérité\n",
    "2. Une condition"
   ]
  },
  {
   "cell_type": "markdown",
   "id": "2622b55e",
   "metadata": {},
   "source": [
    "```` python\n",
    "if CONDITION :\n",
    "    exécuter si vrai\n",
    "\n",
    "````"
   ]
  },
  {
   "cell_type": "code",
   "execution_count": 77,
   "id": "1f551b58",
   "metadata": {},
   "outputs": [
    {
     "name": "stdout",
     "output_type": "stream",
     "text": [
      "Fin du code\n"
     ]
    }
   ],
   "source": [
    "if type(10) == type(10.0):\n",
    "    print(\"Quelque chose\")\n",
    "    \n",
    "print(\"Fin du code\")"
   ]
  },
  {
   "cell_type": "markdown",
   "id": "17b633d0",
   "metadata": {},
   "source": [
    "```` python\n",
    "if CONDITION :\n",
    "    exécuter si vrai\n",
    "else:\n",
    "    exécuter si faux\n",
    "````"
   ]
  },
  {
   "cell_type": "markdown",
   "id": "fe2d66db",
   "metadata": {},
   "source": [
    "Deux symboles différents :\n",
    "\n",
    "- = c'est l'attribution\n",
    "- == c'est l'égalité (!= différent ; <= ...)"
   ]
  },
  {
   "cell_type": "code",
   "execution_count": 81,
   "id": "705c186b",
   "metadata": {},
   "outputs": [
    {
     "data": {
      "text/plain": [
       "True"
      ]
     },
     "execution_count": 81,
     "metadata": {},
     "output_type": "execute_result"
    }
   ],
   "source": [
    "nombre_mots > 0"
   ]
  },
  {
   "cell_type": "code",
   "execution_count": 83,
   "id": "a50d53d0",
   "metadata": {},
   "outputs": [],
   "source": [
    "liste = [\"élément 1\",2,\"autre élément\"]"
   ]
  },
  {
   "cell_type": "code",
   "execution_count": 84,
   "id": "962fe132",
   "metadata": {},
   "outputs": [
    {
     "data": {
      "text/plain": [
       "3"
      ]
     },
     "execution_count": 84,
     "metadata": {},
     "output_type": "execute_result"
    }
   ],
   "source": [
    "len(liste)"
   ]
  },
  {
   "cell_type": "code",
   "execution_count": 85,
   "id": "c7d87d80",
   "metadata": {},
   "outputs": [
    {
     "data": {
      "text/plain": [
       "2"
      ]
     },
     "execution_count": 85,
     "metadata": {},
     "output_type": "execute_result"
    }
   ],
   "source": [
    "liste[1]"
   ]
  },
  {
   "cell_type": "code",
   "execution_count": 86,
   "id": "5c2985b0",
   "metadata": {},
   "outputs": [
    {
     "name": "stdout",
     "output_type": "stream",
     "text": [
      "2 est dans la liste\n"
     ]
    }
   ],
   "source": [
    "if 2 in liste:\n",
    "    print(\"2 est dans la liste\")"
   ]
  },
  {
   "cell_type": "code",
   "execution_count": 90,
   "id": "277ae780",
   "metadata": {},
   "outputs": [
    {
     "name": "stdout",
     "output_type": "stream",
     "text": [
      "\n"
     ]
    },
    {
     "data": {
      "text/plain": [
       "['']"
      ]
     },
     "execution_count": 90,
     "metadata": {},
     "output_type": "execute_result"
    }
   ],
   "source": [
    "input().split(\" \")"
   ]
  },
  {
   "cell_type": "markdown",
   "id": "37e78dba",
   "metadata": {},
   "source": [
    "## Analyse du bloc else : "
   ]
  },
  {
   "cell_type": "code",
   "execution_count": null,
   "id": "293635af",
   "metadata": {},
   "outputs": [],
   "source": [
    "    compteur = 0\n",
    "    for i in liste_mots:\n",
    "        if len(i) >= nombre_min_lettres:\n",
    "            compteur+=1\n",
    "    proportion = round(100*compteur/nombre_mots,2)\n",
    "    informations = {\"Total\":compteur,\"Proportion\":proportion,\n",
    "                   \"Phrase\":phrase,\"Seuil\":nombre_min_lettres}\n",
    "    sortie = f\"Proportion de mots avec {nombre_min_lettres} lettres ou plus : {proportion}\"\n",
    "    print(sortie)\n",
    "    if sortie_fichier:\n",
    "        with open(\"resultat.txt\",\"w\") as f:\n",
    "            f.write(str(informations))"
   ]
  },
  {
   "cell_type": "markdown",
   "id": "5aa1144e",
   "metadata": {},
   "source": [
    "### Boucle for : répéter une opération"
   ]
  },
  {
   "cell_type": "code",
   "execution_count": 100,
   "id": "44bea558",
   "metadata": {},
   "outputs": [],
   "source": [
    "un_ensemble = [\"un\",\"deux\",\"trois\",\"quatre\",\"cent\"]"
   ]
  },
  {
   "cell_type": "code",
   "execution_count": 93,
   "id": "da1c0b3d",
   "metadata": {},
   "outputs": [
    {
     "data": {
      "text/plain": [
       "2"
      ]
     },
     "execution_count": 93,
     "metadata": {},
     "output_type": "execute_result"
    }
   ],
   "source": [
    "len(un_ensemble[0])"
   ]
  },
  {
   "cell_type": "code",
   "execution_count": 94,
   "id": "0854d617",
   "metadata": {},
   "outputs": [
    {
     "data": {
      "text/plain": [
       "4"
      ]
     },
     "execution_count": 94,
     "metadata": {},
     "output_type": "execute_result"
    }
   ],
   "source": [
    "len(un_ensemble[1])"
   ]
  },
  {
   "cell_type": "code",
   "execution_count": 96,
   "id": "e336018e",
   "metadata": {},
   "outputs": [
    {
     "data": {
      "text/plain": [
       "5"
      ]
     },
     "execution_count": 96,
     "metadata": {},
     "output_type": "execute_result"
    }
   ],
   "source": [
    "len(un_ensemble[2])"
   ]
  },
  {
   "cell_type": "code",
   "execution_count": 101,
   "id": "7ee97b26",
   "metadata": {},
   "outputs": [
    {
     "name": "stdout",
     "output_type": "stream",
     "text": [
      "un 2\n",
      "deux 4\n",
      "trois 5\n",
      "quatre 6\n",
      "cent 4\n"
     ]
    }
   ],
   "source": [
    "for e in un_ensemble:\n",
    "    print(e,len(e))"
   ]
  },
  {
   "cell_type": "markdown",
   "id": "1a2383f8",
   "metadata": {},
   "source": [
    "```` python\n",
    "e = un_ensemble[0]\n",
    "print(e,len(e))\n",
    "e = un_ensemble[1]\n",
    "print(e,len(e))\n",
    "e = un_ensemble[2]\n",
    "print(e,len(e))\n",
    "````\n"
   ]
  },
  {
   "cell_type": "markdown",
   "id": "41bd8d96",
   "metadata": {},
   "source": [
    "### Boucle"
   ]
  },
  {
   "cell_type": "code",
   "execution_count": 103,
   "id": "79c85083",
   "metadata": {},
   "outputs": [
    {
     "data": {
      "text/plain": [
       "['Ceci', 'est', 'une', 'phrase']"
      ]
     },
     "execution_count": 103,
     "metadata": {},
     "output_type": "execute_result"
    }
   ],
   "source": [
    "mots = \"Ceci est une phrase\".split(\" \")\n",
    "mots"
   ]
  },
  {
   "cell_type": "code",
   "execution_count": 107,
   "id": "87267cde",
   "metadata": {},
   "outputs": [
    {
     "data": {
      "text/plain": [
       "2"
      ]
     },
     "execution_count": 107,
     "metadata": {},
     "output_type": "execute_result"
    }
   ],
   "source": [
    "compteur = 0\n",
    "for m in mots:\n",
    "    if len(m)>=4:\n",
    "        compteur = compteur + 1\n",
    "compteur"
   ]
  },
  {
   "cell_type": "markdown",
   "id": "00e7ca7e",
   "metadata": {},
   "source": [
    "#### Faire un calcul"
   ]
  },
  {
   "cell_type": "code",
   "execution_count": null,
   "id": "2c7c3170",
   "metadata": {},
   "outputs": [],
   "source": [
    "proportion = round(100*compteur/nombre_mots,2)"
   ]
  },
  {
   "cell_type": "code",
   "execution_count": 108,
   "id": "9221bc65",
   "metadata": {},
   "outputs": [
    {
     "data": {
      "text/plain": [
       "2.0"
      ]
     },
     "execution_count": 108,
     "metadata": {},
     "output_type": "execute_result"
    }
   ],
   "source": [
    "compteur/nombre_mots"
   ]
  },
  {
   "cell_type": "code",
   "execution_count": 114,
   "id": "ca086fad",
   "metadata": {},
   "outputs": [
    {
     "name": "stdout",
     "output_type": "stream",
     "text": [
      "1\n",
      "2\n"
     ]
    }
   ],
   "source": [
    "variable = 1\n",
    "print(variable)\n",
    "variable = variable + 1\n",
    "print(variable)"
   ]
  },
  {
   "cell_type": "code",
   "execution_count": 116,
   "id": "9256ca92",
   "metadata": {},
   "outputs": [
    {
     "name": "stdout",
     "output_type": "stream",
     "text": [
      "2\n"
     ]
    }
   ],
   "source": [
    "print(variable)"
   ]
  },
  {
   "cell_type": "markdown",
   "id": "f9a17b0c",
   "metadata": {},
   "source": [
    "### Les dictionnaires"
   ]
  },
  {
   "cell_type": "code",
   "execution_count": null,
   "id": "6f8fdd92",
   "metadata": {},
   "outputs": [],
   "source": [
    "informations = {\"Total\":compteur,\n",
    "                \"Proportion\":proportion,\n",
    "                \"Phrase\":phrase,\n",
    "                \"Seuil\":nombre_min_lettres}"
   ]
  },
  {
   "cell_type": "code",
   "execution_count": 119,
   "id": "494554bb",
   "metadata": {},
   "outputs": [
    {
     "data": {
      "text/plain": [
       "{'Total': 2, 'Proportion': 50.0, 'Phrase': 'Ceci est une phrase', 'Seuil': 4}"
      ]
     },
     "execution_count": 119,
     "metadata": {},
     "output_type": "execute_result"
    }
   ],
   "source": [
    "informations"
   ]
  },
  {
   "cell_type": "code",
   "execution_count": 118,
   "id": "784fac34",
   "metadata": {},
   "outputs": [
    {
     "data": {
      "text/plain": [
       "dict"
      ]
     },
     "execution_count": 118,
     "metadata": {},
     "output_type": "execute_result"
    }
   ],
   "source": [
    "type(informations)"
   ]
  },
  {
   "cell_type": "markdown",
   "id": "ab33af68",
   "metadata": {},
   "source": [
    "```` python \n",
    "{\n",
    "    clé:valeur\n",
    "}\n",
    "````"
   ]
  },
  {
   "cell_type": "code",
   "execution_count": 122,
   "id": "1fcc3308",
   "metadata": {},
   "outputs": [],
   "source": [
    "un_dictionnaire = {\"entrée\" : \"valeur associée\",0:round}"
   ]
  },
  {
   "cell_type": "markdown",
   "id": "a4583003",
   "metadata": {},
   "source": [
    "### Mise en forme de texte"
   ]
  },
  {
   "cell_type": "code",
   "execution_count": 125,
   "id": "e55b1823",
   "metadata": {},
   "outputs": [
    {
     "name": "stdout",
     "output_type": "stream",
     "text": [
      "Proportion de mots avec 4 lettres ou plus : 50.0\n"
     ]
    }
   ],
   "source": [
    "sortie = f\"Proportion de mots avec {nombre_min_lettres} lettres ou plus : {proportion}\"\n",
    "print(sortie)"
   ]
  },
  {
   "cell_type": "code",
   "execution_count": 126,
   "id": "9f677af2",
   "metadata": {},
   "outputs": [
    {
     "data": {
      "text/plain": [
       "'Proportion de mots avec 4 lettres ou plus : 50.0'"
      ]
     },
     "execution_count": 126,
     "metadata": {},
     "output_type": "execute_result"
    }
   ],
   "source": [
    "\"Proportion de mots avec \"+str(nombre_min_lettres)+\" lettres ou plus : \"+str(proportion)"
   ]
  },
  {
   "cell_type": "markdown",
   "id": "281aedb5",
   "metadata": {},
   "source": [
    "## Définir des fonctions"
   ]
  },
  {
   "cell_type": "code",
   "execution_count": 133,
   "id": "fbcb4d1d",
   "metadata": {},
   "outputs": [
    {
     "data": {
      "text/plain": [
       "[0, 1, 2, 3, 4, 5, 6, 7, 8, 9, 10, 11, 12, 13, 14, 15, 16, 17, 18, 19]"
      ]
     },
     "execution_count": 133,
     "metadata": {},
     "output_type": "execute_result"
    }
   ],
   "source": [
    "list(range(0,20))"
   ]
  },
  {
   "cell_type": "code",
   "execution_count": null,
   "id": "a766f013",
   "metadata": {},
   "outputs": [],
   "source": [
    "def nomdelafonction(entree):\n",
    "    "
   ]
  },
  {
   "cell_type": "code",
   "execution_count": 134,
   "id": "6e04d0dc",
   "metadata": {},
   "outputs": [],
   "source": [
    "def addition(nombre):\n",
    "    return nombre + 1"
   ]
  },
  {
   "cell_type": "code",
   "execution_count": 136,
   "id": "1f8e6456",
   "metadata": {},
   "outputs": [
    {
     "data": {
      "text/plain": [
       "11"
      ]
     },
     "execution_count": 136,
     "metadata": {},
     "output_type": "execute_result"
    }
   ],
   "source": [
    "addition(10)"
   ]
  },
  {
   "cell_type": "code",
   "execution_count": 137,
   "id": "bbce4e28",
   "metadata": {},
   "outputs": [],
   "source": [
    "def comptage_grands_mots(phrase):\n",
    "    nombre_min_lettres = 4 # on crée une variable qui définit le nombre de lettres\n",
    "    liste_mots = phrase.split(\" \") # on coupe le texte au niveau des espaces\n",
    "    nombre_mots = len(liste_mots) # création d'une nouvelle variable\n",
    "    if nombre_mots == 0: # si le nombre de mots est égal à 0\n",
    "        print(\"La liste est vide\")\n",
    "    else: # cas où il y a des mots\n",
    "        compteur = 0 # on initialise un compteur à 0 \n",
    "        for i in liste_mots: #on prend chaque mot un à un\n",
    "            if len(i) >= nombre_min_lettres: # on regarde si la longueur est supérieure à un seuil\n",
    "                compteur = compteur + 1\n",
    "        # le compteur compte le nombre de mots de plus de 4 lettres\n",
    "        proportion = round(100*compteur/nombre_mots,2) # calcule d'une proportion\n",
    "        # résume les informations dans un dictionnaire\n",
    "        informations = {\"Total\":compteur,\"Proportion\":proportion,\n",
    "                       \"Phrase\":phrase,\"Seuil\":nombre_min_lettres}    \n",
    "    return informations"
   ]
  },
  {
   "cell_type": "code",
   "execution_count": 138,
   "id": "3d935f9c",
   "metadata": {},
   "outputs": [
    {
     "data": {
      "text/plain": [
       "{'Total': 2, 'Proportion': 50.0, 'Phrase': 'ceci est ma phrase', 'Seuil': 4}"
      ]
     },
     "execution_count": 138,
     "metadata": {},
     "output_type": "execute_result"
    }
   ],
   "source": [
    "comptage_grands_mots(\"ceci est ma phrase\")"
   ]
  },
  {
   "cell_type": "code",
   "execution_count": 139,
   "id": "da2b676e",
   "metadata": {},
   "outputs": [
    {
     "data": {
      "text/plain": [
       "{'Total': 3,\n",
       " 'Proportion': 60.0,\n",
       " 'Phrase': 'ceci est ma deuxième phrase',\n",
       " 'Seuil': 4}"
      ]
     },
     "execution_count": 139,
     "metadata": {},
     "output_type": "execute_result"
    }
   ],
   "source": [
    "comptage_grands_mots(\"ceci est ma deuxième phrase\")"
   ]
  },
  {
   "cell_type": "markdown",
   "id": "f1e8598e",
   "metadata": {},
   "source": [
    "Fonction avec plusieurs paramètres"
   ]
  },
  {
   "cell_type": "code",
   "execution_count": 143,
   "id": "3cf6920e",
   "metadata": {},
   "outputs": [],
   "source": [
    "def comptage_grands_mots(phrase,nombre_min_lettres):\n",
    "    \"\"\"\n",
    "    Compter les mots de plus d'un certain seuil\n",
    "    \n",
    "    Inputs:\n",
    "        phrase : str\n",
    "        seuil : int\n",
    "        \n",
    "    Outputs:\n",
    "        return dict\n",
    "    \"\"\"\n",
    "    liste_mots = phrase.split(\" \") # on coupe le texte au niveau des espaces\n",
    "    nombre_mots = len(liste_mots) # création d'une nouvelle variable\n",
    "    if nombre_mots == 0: # si le nombre de mots est égal à 0\n",
    "        print(\"La liste est vide\")\n",
    "    else: # cas où il y a des mots\n",
    "        compteur = 0 # on initialise un compteur à 0 \n",
    "        for i in liste_mots: #on prend chaque mot un à un\n",
    "            if len(i) >= nombre_min_lettres: # on regarde si la longueur est supérieure à un seuil\n",
    "                compteur = compteur + 1\n",
    "        # le compteur compte le nombre de mots de plus de 4 lettres\n",
    "        proportion = round(100*compteur/nombre_mots,2) # calcule d'une proportion\n",
    "        # résume les informations dans un dictionnaire\n",
    "        informations = {\"Total\":compteur,\"Proportion\":proportion,\n",
    "                       \"Phrase\":phrase,\"Seuil\":nombre_min_lettres}    \n",
    "    return informations"
   ]
  },
  {
   "cell_type": "code",
   "execution_count": 141,
   "id": "4645c95e",
   "metadata": {},
   "outputs": [
    {
     "data": {
      "text/plain": [
       "{'Total': 0, 'Proportion': 0.0, 'Phrase': 'Ma phrase à compter', 'Seuil': 10}"
      ]
     },
     "execution_count": 141,
     "metadata": {},
     "output_type": "execute_result"
    }
   ],
   "source": [
    "comptage_grands_mots(\"Ma phrase à compter\",10)"
   ]
  },
  {
   "cell_type": "code",
   "execution_count": 142,
   "id": "8a10b1a4",
   "metadata": {},
   "outputs": [
    {
     "data": {
      "text/plain": [
       "{'Total': 3, 'Proportion': 75.0, 'Phrase': 'Ma phrase à compter', 'Seuil': 2}"
      ]
     },
     "execution_count": 142,
     "metadata": {},
     "output_type": "execute_result"
    }
   ],
   "source": [
    "comptage_grands_mots(\"Ma phrase à compter\",2)"
   ]
  },
  {
   "cell_type": "code",
   "execution_count": null,
   "id": "a69a69c1",
   "metadata": {},
   "outputs": [],
   "source": [
    "comptage_grands_mots()"
   ]
  }
 ],
 "metadata": {
  "kernelspec": {
   "display_name": "Python 3 (ipykernel)",
   "language": "python",
   "name": "python3"
  },
  "language_info": {
   "codemirror_mode": {
    "name": "ipython",
    "version": 3
   },
   "file_extension": ".py",
   "mimetype": "text/x-python",
   "name": "python",
   "nbconvert_exporter": "python",
   "pygments_lexer": "ipython3",
   "version": "3.9.12"
  }
 },
 "nbformat": 4,
 "nbformat_minor": 5
}
