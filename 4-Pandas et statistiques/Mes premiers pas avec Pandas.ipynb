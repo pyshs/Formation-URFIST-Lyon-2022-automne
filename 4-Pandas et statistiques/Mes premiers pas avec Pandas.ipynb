{
 "cells": [
  {
   "cell_type": "markdown",
   "id": "ee6b1f62",
   "metadata": {},
   "source": [
    "# Mes premiers avec Pandas"
   ]
  },
  {
   "cell_type": "markdown",
   "id": "7b57f478",
   "metadata": {},
   "source": [
    "### créer un dataframe de 0"
   ]
  },
  {
   "cell_type": "code",
   "execution_count": 1,
   "id": "b63b80c4",
   "metadata": {},
   "outputs": [],
   "source": [
    "import pandas as pd"
   ]
  },
  {
   "cell_type": "code",
   "execution_count": 2,
   "id": "e74293d0",
   "metadata": {},
   "outputs": [
    {
     "data": {
      "text/plain": [
       "'1.4.4'"
      ]
     },
     "execution_count": 2,
     "metadata": {},
     "output_type": "execute_result"
    }
   ],
   "source": [
    "pd.__version__"
   ]
  },
  {
   "cell_type": "code",
   "execution_count": 7,
   "id": "2f44eaa7",
   "metadata": {},
   "outputs": [],
   "source": [
    "df = pd.DataFrame([[\"A\",\"B\",\"C\"],\n",
    "              [1,2,3]],columns = [\"colonne 1\",\"colonne 2\",\"colonne 3\"])"
   ]
  },
  {
   "cell_type": "code",
   "execution_count": 11,
   "id": "8e70e7db",
   "metadata": {},
   "outputs": [
    {
     "data": {
      "text/plain": [
       "(2, 3)"
      ]
     },
     "execution_count": 11,
     "metadata": {},
     "output_type": "execute_result"
    }
   ],
   "source": [
    "df.shape"
   ]
  },
  {
   "cell_type": "code",
   "execution_count": 15,
   "id": "1d66f1f1",
   "metadata": {},
   "outputs": [],
   "source": [
    "df.loc[1,\"colonne 2\"] = \"bla\""
   ]
  },
  {
   "cell_type": "code",
   "execution_count": 16,
   "id": "3527c6fe",
   "metadata": {},
   "outputs": [
    {
     "data": {
      "text/html": [
       "<div>\n",
       "<style scoped>\n",
       "    .dataframe tbody tr th:only-of-type {\n",
       "        vertical-align: middle;\n",
       "    }\n",
       "\n",
       "    .dataframe tbody tr th {\n",
       "        vertical-align: top;\n",
       "    }\n",
       "\n",
       "    .dataframe thead th {\n",
       "        text-align: right;\n",
       "    }\n",
       "</style>\n",
       "<table border=\"1\" class=\"dataframe\">\n",
       "  <thead>\n",
       "    <tr style=\"text-align: right;\">\n",
       "      <th></th>\n",
       "      <th>colonne 1</th>\n",
       "      <th>colonne 2</th>\n",
       "      <th>colonne 3</th>\n",
       "    </tr>\n",
       "  </thead>\n",
       "  <tbody>\n",
       "    <tr>\n",
       "      <th>0</th>\n",
       "      <td>A</td>\n",
       "      <td>B</td>\n",
       "      <td>C</td>\n",
       "    </tr>\n",
       "    <tr>\n",
       "      <th>1</th>\n",
       "      <td>1</td>\n",
       "      <td>bla</td>\n",
       "      <td>3</td>\n",
       "    </tr>\n",
       "  </tbody>\n",
       "</table>\n",
       "</div>"
      ],
      "text/plain": [
       "  colonne 1 colonne 2 colonne 3\n",
       "0         A         B         C\n",
       "1         1       bla         3"
      ]
     },
     "execution_count": 16,
     "metadata": {},
     "output_type": "execute_result"
    }
   ],
   "source": [
    "df"
   ]
  },
  {
   "cell_type": "markdown",
   "id": "1fa65ad6",
   "metadata": {},
   "source": [
    "## Charger des données extérieures"
   ]
  },
  {
   "cell_type": "code",
   "execution_count": 19,
   "id": "1f4e3eee",
   "metadata": {},
   "outputs": [],
   "source": [
    "df = pd.read_csv(\"SOSP_Export_base de données diffusable.csv\")"
   ]
  },
  {
   "cell_type": "code",
   "execution_count": 20,
   "id": "67ecb73a",
   "metadata": {},
   "outputs": [
    {
     "data": {
      "text/plain": [
       "pandas.core.frame.DataFrame"
      ]
     },
     "execution_count": 20,
     "metadata": {},
     "output_type": "execute_result"
    }
   ],
   "source": [
    "type(df)"
   ]
  },
  {
   "cell_type": "code",
   "execution_count": 23,
   "id": "e0a30479",
   "metadata": {},
   "outputs": [
    {
     "data": {
      "text/plain": [
       "2004.030303030303"
      ]
     },
     "execution_count": 23,
     "metadata": {},
     "output_type": "execute_result"
    }
   ],
   "source": [
    "df[\"annee_premiere_publi\"].mean()"
   ]
  },
  {
   "cell_type": "code",
   "execution_count": 24,
   "id": "ee811f9b",
   "metadata": {},
   "outputs": [
    {
     "data": {
      "text/plain": [
       "2005.0"
      ]
     },
     "execution_count": 24,
     "metadata": {},
     "output_type": "execute_result"
    }
   ],
   "source": [
    "df[\"annee_premiere_publi\"].median()"
   ]
  },
  {
   "cell_type": "code",
   "execution_count": 25,
   "id": "9c3c3030",
   "metadata": {},
   "outputs": [
    {
     "data": {
      "text/plain": [
       "<AxesSubplot:>"
      ]
     },
     "execution_count": 25,
     "metadata": {},
     "output_type": "execute_result"
    },
    {
     "data": {
      "image/png": "[encoded data removed]",
      "text/plain": [
       "<Figure size 432x288 with 1 Axes>"
      ]
     },
     "metadata": {
      "needs_background": "light"
     },
     "output_type": "display_data"
    }
   ],
   "source": [
    "df[\"annee_premiere_publi\"].hist()"
   ]
  },
  {
   "cell_type": "code",
   "execution_count": 33,
   "id": "bfdbb943",
   "metadata": {},
   "outputs": [
    {
     "data": {
      "text/plain": [
       "<AxesSubplot:>"
      ]
     },
     "execution_count": 33,
     "metadata": {},
     "output_type": "execute_result"
    },
    {
     "data": {
      "image/png": "[encoded data removed]",
      "text/plain": [
       "<Figure size 432x288 with 1 Axes>"
      ]
     },
     "metadata": {
      "needs_background": "light"
     },
     "output_type": "display_data"
    }
   ],
   "source": [
    "df[\"fonction_recherche\"].value_counts().plot(kind=\"barh\")"
   ]
  },
  {
   "cell_type": "code",
   "execution_count": 35,
   "id": "a4540e90",
   "metadata": {},
   "outputs": [],
   "source": [
    "filtre = df[\"annee_premiere_publi\"]>2000"
   ]
  },
  {
   "cell_type": "code",
   "execution_count": 37,
   "id": "f6cfac4a",
   "metadata": {},
   "outputs": [
    {
     "data": {
      "text/plain": [
       "(660, 131)"
      ]
     },
     "execution_count": 37,
     "metadata": {},
     "output_type": "execute_result"
    }
   ],
   "source": [
    "df[filtre].shape"
   ]
  },
  {
   "cell_type": "code",
   "execution_count": 38,
   "id": "9108e426",
   "metadata": {},
   "outputs": [],
   "source": [
    "df[\"publication après 2000\"] = df[\"annee_premiere_publi\"]>2000"
   ]
  },
  {
   "cell_type": "code",
   "execution_count": 40,
   "id": "740f7181",
   "metadata": {},
   "outputs": [],
   "source": [
    "df.to_excel(\"save.xlsx\")"
   ]
  }
 ],
 "metadata": {
  "kernelspec": {
   "display_name": "Python 3 (ipykernel)",
   "language": "python",
   "name": "python3"
  },
  "language_info": {
   "codemirror_mode": {
    "name": "ipython",
    "version": 3
   },
   "file_extension": ".py",
   "mimetype": "text/x-python",
   "name": "python",
   "nbconvert_exporter": "python",
   "pygments_lexer": "ipython3",
   "version": "3.9.12"
  }
 },
 "nbformat": 4,
 "nbformat_minor": 5
}
